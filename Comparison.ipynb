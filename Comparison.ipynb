{
 "cells": [
  {
   "cell_type": "code",
   "execution_count": null,
   "metadata": {},
   "outputs": [],
   "source": [
    "import pandas as pd\n",
    "import numpy as np"
   ]
  },
  {
   "cell_type": "code",
   "execution_count": 11,
   "metadata": {},
   "outputs": [],
   "source": [
    "# 序列資料路徑\n",
    "user_name = input(\"輸入資料夾名稱：\")\n",
    "test_time = input(\"輸入測試時間：\")\n",
    "deepgaze_csv_path = f\"HSV_output/{user_name}/{user_name}_{test_time}.csv\"\n",
    "ulife_csv_path = f\"ulife/{user_name}/uLifePlusApp_{test_time}_{test_time}.csv\"\n",
    "# deepgaze_csv_path = \"HSV_output/mizu/mizu_20240329.csv\"\n",
    "# ulife_csv_path = \"ulife/mizu/uLifePlusApp_20240329_20240329.csv\""
   ]
  },
  {
   "cell_type": "code",
   "execution_count": 9,
   "metadata": {},
   "outputs": [
    {
     "name": "stdout",
     "output_type": "stream",
     "text": [
      "   Frame  Skin Pixels Change\n",
      "0      0              120841\n",
      "1      1                2559\n",
      "2      2                1048\n",
      "3      3                1014\n",
      "4      4                1503\n"
     ]
    }
   ],
   "source": [
    "df = pd.read_csv(deepgaze_csv_path)\n",
    "print(df.head())"
   ]
  },
  {
   "cell_type": "code",
   "execution_count": 12,
   "metadata": {},
   "outputs": [
    {
     "name": "stdout",
     "output_type": "stream",
     "text": [
      "   編號 受測者姓名  性別       出生年月日  量測年齡   生理年齡            量測日期時間  姿勢  心率  心跳擴散度  \\\n",
      "0   1   莊明儒  男性  2002/02/08    22  優於同年齡  2024/03/29 13:04  坐姿  88   91.1   \n",
      "\n",
      "   ...  焦慮及恐慌  短期倦怠  長期倦怠  心情低落    亢奮  過敏體質  睡眠障礙  心律不整       自律神經整體健康評估分數  \\\n",
      "0  ...   正常範圍    輕度   極重度  正常範圍  正常範圍    中度  正常範圍   極重度  數值偏高，疑似心律不整，追蹤觀察！   \n",
      "\n",
      "   ANS失調分類  \n",
      "0     【注意】  \n",
      "\n",
      "[1 rows x 34 columns]\n"
     ]
    }
   ],
   "source": [
    "df = pd.read_csv(ulife_csv_path)\n",
    "print(df.head())"
   ]
  }
 ],
 "metadata": {
  "kernelspec": {
   "display_name": "yolov8",
   "language": "python",
   "name": "python3"
  },
  "language_info": {
   "codemirror_mode": {
    "name": "ipython",
    "version": 3
   },
   "file_extension": ".py",
   "mimetype": "text/x-python",
   "name": "python",
   "nbconvert_exporter": "python",
   "pygments_lexer": "ipython3",
   "version": "3.9.0"
  }
 },
 "nbformat": 4,
 "nbformat_minor": 2
}
